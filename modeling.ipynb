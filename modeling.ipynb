{
 "cells": [
  {
   "cell_type": "code",
   "execution_count": 11,
   "metadata": {},
   "outputs": [
    {
     "name": "stdout",
     "output_type": "stream",
     "text": [
      "2.16.1 4.36.2 1.13.1+cu117\n",
      "cuda\n"
     ]
    }
   ],
   "source": [
    "import datasets\n",
    "import torch\n",
    "import transformers\n",
    "\n",
    "print(datasets.__version__, transformers.__version__, torch.__version__)\n",
    "\n",
    "import torch\n",
    "import torch.nn as nn\n",
    "from tqdm.auto import tqdm\n",
    "\n",
    "device = torch.device(\n",
    "    \"cuda\"\n",
    "    if torch.cuda.is_available()\n",
    "    else \"mps\"\n",
    "    if torch.backends.mps.is_available()\n",
    "    else \"cpu\"\n",
    ")\n",
    "print(device)\n",
    "\n",
    "# make our work comparable if restarted the kernel\n",
    "SEED = 1234\n",
    "torch.manual_seed(SEED)\n",
    "torch.backends.cudnn.deterministic = True"
   ]
  },
  {
   "cell_type": "code",
   "execution_count": 12,
   "metadata": {},
   "outputs": [
    {
     "name": "stderr",
     "output_type": "stream",
     "text": [
      "Repo card metadata block was not found. Setting CardData to empty.\n"
     ]
    },
    {
     "name": "stdout",
     "output_type": "stream",
     "text": [
      "Dataset structure: DatasetDict({\n",
      "    train: Dataset({\n",
      "        features: ['Content', 'Label'],\n",
      "        num_rows: 580895\n",
      "    })\n",
      "    test: Dataset({\n",
      "        features: ['Content', 'Label'],\n",
      "        num_rows: 145224\n",
      "    })\n",
      "})\n",
      "Dataset columns: ['Content', 'Label']\n",
      "Number of labels: 2\n",
      "Label mapping: {0: 0, 1: 1}\n"
     ]
    },
    {
     "name": "stderr",
     "output_type": "stream",
     "text": [
      "c:\\Users\\silan\\Desktop\\A7\\.venv\\lib\\site-packages\\huggingface_hub\\file_download.py:797: FutureWarning: `resume_download` is deprecated and will be removed in version 1.0.0. Downloads always resume when possible. If you want to force a new download, use `force_download=True`.\n",
      "  warnings.warn(\n",
      "Some weights of BertForSequenceClassification were not initialized from the model checkpoint at bert-base-uncased and are newly initialized: ['classifier.bias', 'classifier.weight']\n",
      "You should probably TRAIN this model on a down-stream task to be able to use it for predictions and inference.\n",
      "You're using a BertTokenizerFast tokenizer. Please note that with a fast tokenizer, using the `__call__` method is faster than using a method to encode the text followed by a call to the `pad` method to get a padded encoding.\n"
     ]
    },
    {
     "name": "stdout",
     "output_type": "stream",
     "text": [
      "Batch shapes: {'labels': torch.Size([32]), 'input_ids': torch.Size([32, 128]), 'token_type_ids': torch.Size([32, 128]), 'attention_mask': torch.Size([32, 128])}\n"
     ]
    }
   ],
   "source": [
    "import datasets\n",
    "\n",
    "### 1. Load Dataset - Modified for Hate Speech\n",
    "raw_datasets = datasets.load_dataset(\"wisnu001binus/Hate_Speech_Dataset\")\n",
    "# Print dataset info\n",
    "print(\"Dataset structure:\", raw_datasets)\n",
    "print(\"Dataset columns:\", raw_datasets[\"train\"].column_names)\n",
    "\n",
    "# Get label information\n",
    "num_labels = len(set(raw_datasets[\"train\"][\"Label\"]))\n",
    "label_list = sorted(list(set(raw_datasets[\"train\"][\"Label\"])))\n",
    "label2id = {v: i for i, v in enumerate(label_list)}\n",
    "id2label = {i: v for v, i in label2id.items()}\n",
    "\n",
    "print(f\"Number of labels: {num_labels}\")\n",
    "print(\"Label mapping:\", label2id)\n",
    "\n",
    "from transformers import AutoModelForSequenceClassification, AutoTokenizer\n",
    "\n",
    "teacher_id = \"bert-base-uncased\"\n",
    "tokenizer = AutoTokenizer.from_pretrained(teacher_id)\n",
    "\n",
    "teacher_model = AutoModelForSequenceClassification.from_pretrained(\n",
    "    teacher_id,\n",
    "    num_labels=num_labels,\n",
    "    id2label=id2label,\n",
    "    label2id=label2id,\n",
    ")\n",
    "\n",
    "\n",
    "def tokenize_function(examples):\n",
    "    \"\"\"Modified tokenization function for hate speech dataset\"\"\"\n",
    "    return tokenizer(\n",
    "        examples[\"Content\"],  # Use the text column from the hate speech dataset\n",
    "        padding=True,\n",
    "        truncation=True,\n",
    "        max_length=128,\n",
    "        return_tensors=\"pt\",\n",
    "    )\n",
    "\n",
    "\n",
    "# Tokenize datasets\n",
    "tokenized_datasets = raw_datasets.map(tokenize_function, batched=True)\n",
    "\n",
    "# Remove unnecessary columns and rename label column\n",
    "tokenized_datasets = tokenized_datasets.remove_columns(\n",
    "    [col for col in raw_datasets[\"train\"].column_names if col != \"Label\"]\n",
    ")\n",
    "tokenized_datasets = tokenized_datasets.rename_column(\"Label\", \"labels\")\n",
    "tokenized_datasets.set_format(\"torch\")\n",
    "\n",
    "# Create smaller datasets for faster training\n",
    "small_train_dataset = (\n",
    "    tokenized_datasets[\"train\"].shuffle(seed=SEED).select(range(10000))\n",
    ")\n",
    "small_eval_dataset = tokenized_datasets[\"test\"].shuffle(seed=SEED).select(range(1000))\n",
    "small_test_dataset = tokenized_datasets[\"test\"].shuffle(seed=SEED).select(range(1000))\n",
    "\n",
    "from torch.utils.data import DataLoader\n",
    "from transformers import DataCollatorWithPadding\n",
    "\n",
    "data_collator = DataCollatorWithPadding(tokenizer=tokenizer)\n",
    "\n",
    "train_dataloader = DataLoader(\n",
    "    small_train_dataset, shuffle=True, batch_size=32, collate_fn=data_collator\n",
    ")\n",
    "test_dataloader = DataLoader(\n",
    "    small_test_dataset, batch_size=32, collate_fn=data_collator\n",
    ")\n",
    "eval_dataloader = DataLoader(\n",
    "    small_eval_dataset, batch_size=32, collate_fn=data_collator\n",
    ")\n",
    "\n",
    "# Verify the data loading\n",
    "for batch in train_dataloader:\n",
    "    print(\"Batch shapes:\", {k: v.shape for k, v in batch.items()})\n",
    "    break"
   ]
  },
  {
   "cell_type": "code",
   "execution_count": 13,
   "metadata": {},
   "outputs": [],
   "source": [
    "teacher_model.config\n",
    "\n",
    "from transformers.models.bert.modeling_bert import BertConfig\n",
    "\n",
    "# Get teacher configuration as a dictionary\n",
    "configuration = teacher_model.config.to_dict()\n",
    "\n",
    "# Half the number of hidden layers\n",
    "configuration[\"num_hidden_layers\"] //= 2\n",
    "# Convert the dictionary to the student configuration\n",
    "configuration = BertConfig.from_dict(configuration)\n",
    "\n",
    "# Create uninitialized student model\n",
    "model = type(teacher_model)(configuration)\n",
    "\n",
    "from torch.nn import Module\n",
    "from transformers.models.bert.modeling_bert import BertEncoder, BertModel\n",
    "\n",
    "\n",
    "def distill_bert_weights(\n",
    "    teacher: Module, student: Module, use_odd_layers: bool = True\n",
    ") -> Module:\n",
    "    \"\"\"\n",
    "    Recursively copies the weights of the teacher to the student.\n",
    "    Args:\n",
    "        teacher: The teacher model\n",
    "        student: The student model\n",
    "        use_odd_layers: If True, copy odd-numbered layers; if False, copy even-numbered layers\n",
    "    Returns:\n",
    "        The initialized student model\n",
    "    \"\"\"\n",
    "    # If the part is an entire BERT model or a BERTFor..., unpack and iterate\n",
    "    if isinstance(teacher, BertModel) or type(teacher).__name__.startswith(\"BertFor\"):\n",
    "        for teacher_part, student_part in zip(teacher.children(), student.children()):\n",
    "            distill_bert_weights(teacher_part, student_part, use_odd_layers)\n",
    "    # Else if the part is an encoder, copy selected layers\n",
    "    elif isinstance(teacher, BertEncoder):\n",
    "        teacher_encoding_layers = [\n",
    "            layer for layer in next(teacher.children())\n",
    "        ]  # 12 layers\n",
    "        student_encoding_layers = [\n",
    "            layer for layer in next(student.children())\n",
    "        ]  # 6 layers\n",
    "        for i in range(len(student_encoding_layers)):\n",
    "            source_idx = 2 * i + (\n",
    "                1 if use_odd_layers else 0\n",
    "            )  # Select odd or even layers\n",
    "            student_encoding_layers[i].load_state_dict(\n",
    "                teacher_encoding_layers[source_idx].state_dict()\n",
    "            )\n",
    "    # Else the part is a head or something else, copy the state_dict\n",
    "    else:\n",
    "        student.load_state_dict(teacher.state_dict())\n",
    "\n",
    "    return student\n",
    "\n",
    "\n",
    "def count_parameters(model):\n",
    "    return sum(p.numel() for p in model.parameters() if p.requires_grad)"
   ]
  },
  {
   "cell_type": "code",
   "execution_count": 14,
   "metadata": {},
   "outputs": [
    {
     "name": "stdout",
     "output_type": "stream",
     "text": [
      "Teacher parameters: 109483778\n",
      "Student (odd) parameters: 66956546\n",
      "Student (even) parameters: 66956546\n",
      "Compression ratio: 61.16%\n"
     ]
    }
   ],
   "source": [
    "# Create and initialize two student models\n",
    "model_odd = type(teacher_model)(configuration)\n",
    "model_even = type(teacher_model)(configuration)\n",
    "\n",
    "# Initialize with odd and even layers respectively\n",
    "model_odd = distill_bert_weights(teacher_model, model_odd, use_odd_layers=True)\n",
    "model_even = distill_bert_weights(teacher_model, model_even, use_odd_layers=False)\n",
    "\n",
    "# Print model sizes for comparison\n",
    "print(\"Teacher parameters:\", count_parameters(teacher_model))\n",
    "print(\"Student (odd) parameters:\", count_parameters(model_odd))\n",
    "print(\"Student (even) parameters:\", count_parameters(model_even))\n",
    "\n",
    "# Calculate and print the compression ratio\n",
    "compression_ratio = count_parameters(model_odd) / count_parameters(teacher_model) * 100\n",
    "print(f\"Compression ratio: {compression_ratio:.2f}%\")"
   ]
  },
  {
   "cell_type": "code",
   "execution_count": 15,
   "metadata": {},
   "outputs": [],
   "source": [
    "# Loss functions for knowledge distillation\n",
    "import torch.nn.functional as F\n",
    "\n",
    "\n",
    "class DistillKL(nn.Module):\n",
    "    \"\"\"\n",
    "    Distilling the Knowledge in a Neural Network\n",
    "    Compute the knowledge-distillation (KD) loss given outputs, labels.\n",
    "    \"\"\"\n",
    "\n",
    "    def __init__(self):\n",
    "        super(DistillKL, self).__init__()\n",
    "\n",
    "    def forward(self, output_student, output_teacher, temperature=1):\n",
    "        \"\"\"\n",
    "        Note: the output_student and output_teacher are logits\n",
    "        \"\"\"\n",
    "        T = temperature\n",
    "\n",
    "        KD_loss = (\n",
    "            nn.KLDivLoss(reduction=\"batchmean\")(\n",
    "                F.log_softmax(output_student / T, dim=-1),\n",
    "                F.softmax(output_teacher / T, dim=-1),\n",
    "            )\n",
    "            * T\n",
    "            * T\n",
    "        )\n",
    "        return KD_loss\n",
    "\n",
    "\n",
    "# Initialize loss functions\n",
    "criterion_div = DistillKL()\n",
    "criterion_cos = nn.CosineEmbeddingLoss()"
   ]
  },
  {
   "cell_type": "code",
   "execution_count": 16,
   "metadata": {},
   "outputs": [],
   "source": [
    "import torch.nn as nn\n",
    "import torch.optim as optim\n",
    "\n",
    "lr = 5e-5\n",
    "\n",
    "# training hyperparameters\n",
    "optimizer = optim.Adam(params=model.parameters(), lr=lr)\n",
    "\n",
    "model = model.to(device)\n",
    "teacher_model = teacher_model.to(device)\n",
    "\n",
    "from transformers import get_scheduler\n",
    "\n",
    "num_epochs = 5\n",
    "num_update_steps_per_epoch = len(train_dataloader)\n",
    "num_training_steps = num_epochs * num_update_steps_per_epoch\n",
    "\n",
    "lr_scheduler = get_scheduler(\n",
    "    name=\"linear\",\n",
    "    optimizer=optimizer,\n",
    "    num_warmup_steps=0,\n",
    "    num_training_steps=num_training_steps,\n",
    ")\n",
    "\n",
    "\n",
    "# Training setup for both models\n",
    "def setup_training(model):\n",
    "    optimizer = optim.Adam(params=model.parameters(), lr=5e-5)\n",
    "    model = model.to(device)\n",
    "\n",
    "    num_epochs = 5\n",
    "    num_update_steps_per_epoch = len(train_dataloader)\n",
    "    num_training_steps = num_epochs * num_update_steps_per_epoch\n",
    "\n",
    "    lr_scheduler = get_scheduler(\n",
    "        name=\"linear\",\n",
    "        optimizer=optimizer,\n",
    "        num_warmup_steps=0,\n",
    "        num_training_steps=num_training_steps,\n",
    "    )\n",
    "\n",
    "    return optimizer, lr_scheduler\n",
    "\n",
    "\n",
    "# Setup training for both models\n",
    "optimizer_odd, scheduler_odd = setup_training(model_odd)\n",
    "optimizer_even, scheduler_even = setup_training(model_even)\n",
    "\n",
    "# Move teacher model to device\n",
    "teacher_model = teacher_model.to(device)\n",
    "\n",
    "\n",
    "import evaluate\n",
    "import numpy as np\n",
    "\n",
    "# Get the metric function\n",
    "# if task_name is not None:\n",
    "    # metric = evaluate.load(\"glue\", task_name)\n",
    "# else:\n",
    "metric = evaluate.load(\"accuracy\")"
   ]
  },
  {
   "cell_type": "code",
   "execution_count": 17,
   "metadata": {},
   "outputs": [
    {
     "data": {
      "application/vnd.jupyter.widget-view+json": {
       "model_id": "a1b96e10f6374aaa8b3ca7ccee4fc791",
       "version_major": 2,
       "version_minor": 0
      },
      "text/plain": [
       "  0%|          | 0/1565 [00:00<?, ?it/s]"
      ]
     },
     "metadata": {},
     "output_type": "display_data"
    },
    {
     "name": "stdout",
     "output_type": "stream",
     "text": [
      "Epoch at 1: Train loss 0.2483:\n",
      "  - Loss_cls: 0.6804\n",
      "  - Loss_div: 0.0194\n",
      "  - Loss_cos: 0.0450\n",
      "Epoch at 1: Test Acc 0.7430\n",
      "Epoch at 2: Train loss 0.2167:\n",
      "  - Loss_cls: 0.5464\n",
      "  - Loss_div: 0.0569\n",
      "  - Loss_cos: 0.0467\n",
      "Epoch at 2: Test Acc 0.7430\n",
      "Epoch at 3: Train loss 0.1979:\n",
      "  - Loss_cls: 0.4632\n",
      "  - Loss_div: 0.0839\n",
      "  - Loss_cos: 0.0465\n",
      "Epoch at 3: Test Acc 0.7850\n",
      "Epoch at 4: Train loss 0.1873:\n",
      "  - Loss_cls: 0.4150\n",
      "  - Loss_div: 0.1002\n",
      "  - Loss_cos: 0.0467\n",
      "Epoch at 4: Test Acc 0.7850\n",
      "Epoch at 5: Train loss 0.1807:\n",
      "  - Loss_cls: 0.3861\n",
      "  - Loss_div: 0.1096\n",
      "  - Loss_cos: 0.0464\n",
      "Epoch at 5: Test Acc 0.7840\n",
      "Avg Metric 0.768\n"
     ]
    }
   ],
   "source": [
    "import torch\n",
    "\n",
    "progress_bar = tqdm(range(num_training_steps))\n",
    "eval_metrics = 0\n",
    "\n",
    "# Lists to store losses for each epoch\n",
    "train_losses = []\n",
    "train_losses_cls = []\n",
    "train_losses_div = []\n",
    "train_losses_cos = []\n",
    "eval_losses = []\n",
    "\n",
    "for epoch in range(num_epochs):\n",
    "    model.train()\n",
    "    teacher_model.eval()\n",
    "    train_loss = 0\n",
    "    train_loss_cls = 0\n",
    "    train_loss_div = 0\n",
    "    train_loss_cos = 0\n",
    "\n",
    "    for batch in train_dataloader:\n",
    "        batch = {k: v.to(device) for k, v in batch.items()}\n",
    "        # compute student output\n",
    "        outputs = model(**batch)\n",
    "        # compute teacher output\n",
    "        with torch.no_grad():\n",
    "            output_teacher = teacher_model(**batch)\n",
    "\n",
    "        # assert size\n",
    "        assert outputs.logits.size() == output_teacher.logits.size()\n",
    "\n",
    "        # cls loss\n",
    "        loss_cls = outputs.loss\n",
    "        train_loss_cls += loss_cls.item()\n",
    "        # distillation loss\n",
    "        loss_div = criterion_div(outputs.logits, output_teacher.logits)\n",
    "        train_loss_div += loss_div.item()\n",
    "        # cosine loss\n",
    "        loss_cos = criterion_cos(\n",
    "            output_teacher.logits,\n",
    "            outputs.logits,\n",
    "            torch.ones(output_teacher.logits.size()[0]).to(device),\n",
    "        )\n",
    "        train_loss_cos += loss_cos.item()\n",
    "\n",
    "        # Average the loss and return it\n",
    "        loss = (loss_cls + loss_div + loss_cos) / 3\n",
    "\n",
    "        train_loss += loss.item()\n",
    "        loss.backward()\n",
    "        # accelerator.backward(loss)\n",
    "        # Step with optimizer\n",
    "        optimizer.step()\n",
    "        lr_scheduler.step()\n",
    "        optimizer.zero_grad()\n",
    "        progress_bar.update(1)\n",
    "\n",
    "    train_losses.append(train_loss / len(train_dataloader))\n",
    "    train_losses_cls.append(train_loss_cls / len(train_dataloader))\n",
    "    train_losses_div.append(train_loss_div / len(train_dataloader))\n",
    "    train_losses_cos.append(train_loss_cos / len(train_dataloader))\n",
    "\n",
    "    print(f\"Epoch at {epoch + 1}: Train loss {train_loss / len(train_dataloader):.4f}:\")\n",
    "    print(f\"  - Loss_cls: {train_loss_cls / len(train_dataloader):.4f}\")\n",
    "    print(f\"  - Loss_div: {train_loss_div / len(train_dataloader):.4f}\")\n",
    "    print(f\"  - Loss_cos: {train_loss_cos / len(train_dataloader):.4f}\")\n",
    "\n",
    "    model.eval()\n",
    "    eval_loss = 0\n",
    "    for batch in eval_dataloader:\n",
    "        batch = {k: v.to(device) for k, v in batch.items()}\n",
    "        with torch.no_grad():\n",
    "            outputs = model(**batch)\n",
    "\n",
    "        loss_cls = outputs.loss\n",
    "        predictions = outputs.logits.argmax(dim=-1)\n",
    "\n",
    "        eval_loss += loss_cls.item()\n",
    "        # predictions, references = accelerator.gather((predictions, batch[\"labels\"]))\n",
    "        metric.add_batch(predictions=predictions, references=batch[\"labels\"])\n",
    "\n",
    "    eval_metric = metric.compute()\n",
    "    eval_metrics += eval_metric[\"accuracy\"]\n",
    "    eval_losses.append(\n",
    "        eval_loss / len(eval_dataloader)\n",
    "    )  # Save the evaluation loss for plotting\n",
    "\n",
    "    print(f\"Epoch at {epoch + 1}: Test Acc {eval_metric['accuracy']:.4f}\")\n",
    "\n",
    "print(\"Avg Metric\", eval_metrics / num_epochs)"
   ]
  },
  {
   "cell_type": "code",
   "execution_count": 18,
   "metadata": {},
   "outputs": [
    {
     "data": {
      "image/png": "[encoded data removed]",
      "text/plain": [
       "<Figure size 1200x600 with 1 Axes>"
      ]
     },
     "metadata": {},
     "output_type": "display_data"
    }
   ],
   "source": [
    "import matplotlib.pyplot as plt\n",
    "\n",
    "# Plotting\n",
    "epochs_list = range(1, num_epochs + 1)\n",
    "\n",
    "plt.figure(figsize=(12, 6))\n",
    "plt.plot(epochs_list, train_losses, label=\"Total Train Loss\")\n",
    "plt.plot(epochs_list, train_losses_cls, label=\"Train Loss_cls\")\n",
    "plt.plot(epochs_list, train_losses_div, label=\"Train Loss_div\")\n",
    "plt.plot(epochs_list, train_losses_cos, label=\"Train Loss_cos\")\n",
    "plt.plot(epochs_list, eval_losses, label=\"Validation Loss\")\n",
    "\n",
    "plt.title(\"Training and Validation Losses\")\n",
    "plt.xlabel(\"Epochs\")\n",
    "plt.ylabel(\"Loss\")\n",
    "plt.legend()\n",
    "plt.show()"
   ]
  },
  {
   "cell_type": "code",
   "execution_count": 19,
   "metadata": {},
   "outputs": [
    {
     "name": "stdout",
     "output_type": "stream",
     "text": [
      "LoRA parameters: 296450\n"
     ]
    }
   ],
   "source": [
    "# Import LoRA-related modules\n",
    "from peft import LoraConfig, TaskType, get_peft_model\n",
    "\n",
    "# Create LoRA configuration\n",
    "peft_config = LoraConfig(\n",
    "    task_type=TaskType.SEQ_CLS,\n",
    "    r=16,  # rank of LoRA\n",
    "    lora_alpha=32,  # alpha scaling\n",
    "    lora_dropout=0.1,\n",
    "    target_modules=[\"query\", \"value\"],  # Apply LoRA to attention layers\n",
    "    bias=\"none\",\n",
    ")\n",
    "\n",
    "# Create LoRA model\n",
    "model_lora = type(teacher_model)(configuration)  # Create base 6-layer model\n",
    "model_lora = get_peft_model(model_lora, peft_config)\n",
    "print(\"LoRA parameters:\", count_parameters(model_lora))\n",
    "\n",
    "# Setup training for LoRA model\n",
    "optimizer_lora, scheduler_lora = setup_training(model_lora)"
   ]
  },
  {
   "cell_type": "code",
   "execution_count": 20,
   "metadata": {},
   "outputs": [],
   "source": [
    "# Training function for all models\n",
    "def train_model(model, optimizer, scheduler, model_name=\"Model\"):\n",
    "    \"\"\"\n",
    "    Training function that works for all model variants\n",
    "    \"\"\"\n",
    "    model.train()\n",
    "    teacher_model.eval()\n",
    "    \n",
    "    train_losses = []\n",
    "    eval_accuracies = []\n",
    "    \n",
    "    for epoch in range(num_epochs):\n",
    "        train_loss = 0\n",
    "        progress_bar = tqdm(range(len(train_dataloader)))\n",
    "        \n",
    "        for batch in train_dataloader:\n",
    "            batch = {k: v.to(device) for k, v in batch.items()}\n",
    "            \n",
    "            # Get model outputs\n",
    "            outputs = model(**batch)\n",
    "            with torch.no_grad():\n",
    "                teacher_outputs = teacher_model(**batch)\n",
    "            \n",
    "            # Calculate losses\n",
    "            loss_cls = outputs.loss\n",
    "            loss_div = criterion_div(outputs.logits, teacher_outputs.logits)\n",
    "            loss_cos = criterion_cos(\n",
    "                teacher_outputs.logits,\n",
    "                outputs.logits,\n",
    "                torch.ones(outputs.logits.size()[0]).to(device)\n",
    "            )\n",
    "            \n",
    "            # Combined loss\n",
    "            loss = (loss_cls + loss_div + loss_cos) / 3\n",
    "            \n",
    "            # Backward pass and optimization\n",
    "            loss.backward()\n",
    "            optimizer.step()\n",
    "            scheduler.step()\n",
    "            optimizer.zero_grad()\n",
    "            \n",
    "            train_loss += loss.item()\n",
    "            progress_bar.update(1)\n",
    "        \n",
    "        avg_loss = train_loss / len(train_dataloader)\n",
    "        train_losses.append(avg_loss)\n",
    "        \n",
    "        # Evaluation\n",
    "        model.eval()\n",
    "        eval_accuracy = 0\n",
    "        \n",
    "        for batch in eval_dataloader:\n",
    "            batch = {k: v.to(device) for k, v in batch.items()}\n",
    "            with torch.no_grad():\n",
    "                outputs = model(**batch)\n",
    "            \n",
    "            predictions = outputs.logits.argmax(dim=-1)\n",
    "            metric.add_batch(predictions=predictions, references=batch[\"labels\"])\n",
    "        \n",
    "        eval_metric = metric.compute()\n",
    "        eval_accuracies.append(eval_metric[\"accuracy\"])\n",
    "        \n",
    "        print(\n",
    "            f\"{model_name} - Epoch {epoch + 1}: \"\n",
    "            f\"Train Loss: {avg_loss:.4f}, \"\n",
    "            f\"Eval Accuracy: {eval_metric['accuracy']:.4f}\"\n",
    "        )\n",
    "    \n",
    "    return train_losses, eval_accuracies"
   ]
  },
  {
   "cell_type": "code",
   "execution_count": 21,
   "metadata": {},
   "outputs": [
    {
     "name": "stdout",
     "output_type": "stream",
     "text": [
      "\n",
      "Training Odd Layer Model...\n"
     ]
    },
    {
     "data": {
      "application/vnd.jupyter.widget-view+json": {
       "model_id": "61ceeefa3d1944ddabe6857ec9d1b6dd",
       "version_major": 2,
       "version_minor": 0
      },
      "text/plain": [
       "  0%|          | 0/313 [00:00<?, ?it/s]"
      ]
     },
     "metadata": {},
     "output_type": "display_data"
    },
    {
     "name": "stdout",
     "output_type": "stream",
     "text": [
      "Odd Layer Model - Epoch 1: Train Loss: 0.2212, Eval Accuracy: 0.7880\n"
     ]
    },
    {
     "data": {
      "application/vnd.jupyter.widget-view+json": {
       "model_id": "e45ecba06c7746fb9364b12342af55a2",
       "version_major": 2,
       "version_minor": 0
      },
      "text/plain": [
       "  0%|          | 0/313 [00:00<?, ?it/s]"
      ]
     },
     "metadata": {},
     "output_type": "display_data"
    },
    {
     "name": "stdout",
     "output_type": "stream",
     "text": [
      "Odd Layer Model - Epoch 2: Train Loss: 0.1900, Eval Accuracy: 0.8080\n"
     ]
    },
    {
     "data": {
      "application/vnd.jupyter.widget-view+json": {
       "model_id": "b0e5636161244613b8fcf31fbf14ae30",
       "version_major": 2,
       "version_minor": 0
      },
      "text/plain": [
       "  0%|          | 0/313 [00:00<?, ?it/s]"
      ]
     },
     "metadata": {},
     "output_type": "display_data"
    },
    {
     "name": "stdout",
     "output_type": "stream",
     "text": [
      "Odd Layer Model - Epoch 3: Train Loss: 0.1654, Eval Accuracy: 0.8180\n"
     ]
    },
    {
     "data": {
      "application/vnd.jupyter.widget-view+json": {
       "model_id": "d516719297324eea9c72ec70ddc09061",
       "version_major": 2,
       "version_minor": 0
      },
      "text/plain": [
       "  0%|          | 0/313 [00:00<?, ?it/s]"
      ]
     },
     "metadata": {},
     "output_type": "display_data"
    },
    {
     "name": "stdout",
     "output_type": "stream",
     "text": [
      "Odd Layer Model - Epoch 4: Train Loss: 0.1593, Eval Accuracy: 0.8080\n"
     ]
    },
    {
     "data": {
      "application/vnd.jupyter.widget-view+json": {
       "model_id": "4885de6c0adc4108970a493303a94833",
       "version_major": 2,
       "version_minor": 0
      },
      "text/plain": [
       "  0%|          | 0/313 [00:00<?, ?it/s]"
      ]
     },
     "metadata": {},
     "output_type": "display_data"
    },
    {
     "name": "stdout",
     "output_type": "stream",
     "text": [
      "Odd Layer Model - Epoch 5: Train Loss: 0.1575, Eval Accuracy: 0.8180\n",
      "\n",
      "Training Even Layer Model...\n"
     ]
    },
    {
     "data": {
      "application/vnd.jupyter.widget-view+json": {
       "model_id": "10de0ec547324b6d9cc3bbfe868511f7",
       "version_major": 2,
       "version_minor": 0
      },
      "text/plain": [
       "  0%|          | 0/313 [00:00<?, ?it/s]"
      ]
     },
     "metadata": {},
     "output_type": "display_data"
    },
    {
     "name": "stdout",
     "output_type": "stream",
     "text": [
      "Even Layer Model - Epoch 1: Train Loss: 0.2241, Eval Accuracy: 0.7890\n"
     ]
    },
    {
     "data": {
      "application/vnd.jupyter.widget-view+json": {
       "model_id": "b3b21e775d8d43dbbe8885e1cefe936d",
       "version_major": 2,
       "version_minor": 0
      },
      "text/plain": [
       "  0%|          | 0/313 [00:00<?, ?it/s]"
      ]
     },
     "metadata": {},
     "output_type": "display_data"
    },
    {
     "name": "stdout",
     "output_type": "stream",
     "text": [
      "Even Layer Model - Epoch 2: Train Loss: 0.1920, Eval Accuracy: 0.8140\n"
     ]
    },
    {
     "data": {
      "application/vnd.jupyter.widget-view+json": {
       "model_id": "4ee3c03c6fe6466d9012eed91d8ad493",
       "version_major": 2,
       "version_minor": 0
      },
      "text/plain": [
       "  0%|          | 0/313 [00:00<?, ?it/s]"
      ]
     },
     "metadata": {},
     "output_type": "display_data"
    },
    {
     "name": "stdout",
     "output_type": "stream",
     "text": [
      "Even Layer Model - Epoch 3: Train Loss: 0.1685, Eval Accuracy: 0.8120\n"
     ]
    },
    {
     "data": {
      "application/vnd.jupyter.widget-view+json": {
       "model_id": "56166aabdd794d9abd01fe52ac84b0a7",
       "version_major": 2,
       "version_minor": 0
      },
      "text/plain": [
       "  0%|          | 0/313 [00:00<?, ?it/s]"
      ]
     },
     "metadata": {},
     "output_type": "display_data"
    },
    {
     "name": "stdout",
     "output_type": "stream",
     "text": [
      "Even Layer Model - Epoch 4: Train Loss: 0.1606, Eval Accuracy: 0.8250\n"
     ]
    },
    {
     "data": {
      "application/vnd.jupyter.widget-view+json": {
       "model_id": "3bc8e496eb814c2ebdbe976f3b933b2a",
       "version_major": 2,
       "version_minor": 0
      },
      "text/plain": [
       "  0%|          | 0/313 [00:00<?, ?it/s]"
      ]
     },
     "metadata": {},
     "output_type": "display_data"
    },
    {
     "name": "stdout",
     "output_type": "stream",
     "text": [
      "Even Layer Model - Epoch 5: Train Loss: 0.1582, Eval Accuracy: 0.8270\n",
      "\n",
      "Training LoRA Model...\n"
     ]
    },
    {
     "data": {
      "application/vnd.jupyter.widget-view+json": {
       "model_id": "dc479a2522c1445091301df324eb7abd",
       "version_major": 2,
       "version_minor": 0
      },
      "text/plain": [
       "  0%|          | 0/313 [00:00<?, ?it/s]"
      ]
     },
     "metadata": {},
     "output_type": "display_data"
    },
    {
     "name": "stdout",
     "output_type": "stream",
     "text": [
      "LoRA Model - Epoch 1: Train Loss: 0.2702, Eval Accuracy: 0.4950\n"
     ]
    },
    {
     "data": {
      "application/vnd.jupyter.widget-view+json": {
       "model_id": "2e516a5d41744e6c9805d32c356e01be",
       "version_major": 2,
       "version_minor": 0
      },
      "text/plain": [
       "  0%|          | 0/313 [00:00<?, ?it/s]"
      ]
     },
     "metadata": {},
     "output_type": "display_data"
    },
    {
     "name": "stdout",
     "output_type": "stream",
     "text": [
      "LoRA Model - Epoch 2: Train Loss: 0.2422, Eval Accuracy: 0.5980\n"
     ]
    },
    {
     "data": {
      "application/vnd.jupyter.widget-view+json": {
       "model_id": "d7f18cb328354d2db9dd2bbc1f32611c",
       "version_major": 2,
       "version_minor": 0
      },
      "text/plain": [
       "  0%|          | 0/313 [00:00<?, ?it/s]"
      ]
     },
     "metadata": {},
     "output_type": "display_data"
    },
    {
     "name": "stdout",
     "output_type": "stream",
     "text": [
      "LoRA Model - Epoch 3: Train Loss: 0.2404, Eval Accuracy: 0.6080\n"
     ]
    },
    {
     "data": {
      "application/vnd.jupyter.widget-view+json": {
       "model_id": "54b7637ff54b4ae18f6468a081608ab2",
       "version_major": 2,
       "version_minor": 0
      },
      "text/plain": [
       "  0%|          | 0/313 [00:00<?, ?it/s]"
      ]
     },
     "metadata": {},
     "output_type": "display_data"
    },
    {
     "name": "stdout",
     "output_type": "stream",
     "text": [
      "LoRA Model - Epoch 4: Train Loss: 0.2392, Eval Accuracy: 0.6100\n"
     ]
    },
    {
     "data": {
      "application/vnd.jupyter.widget-view+json": {
       "model_id": "a0f8d0d7425247cca820cc3528f002f7",
       "version_major": 2,
       "version_minor": 0
      },
      "text/plain": [
       "  0%|          | 0/313 [00:00<?, ?it/s]"
      ]
     },
     "metadata": {},
     "output_type": "display_data"
    },
    {
     "name": "stdout",
     "output_type": "stream",
     "text": [
      "LoRA Model - Epoch 5: Train Loss: 0.2383, Eval Accuracy: 0.6240\n"
     ]
    }
   ],
   "source": [
    "# Train all three models\n",
    "print(\"\\nTraining Odd Layer Model...\")\n",
    "odd_losses, odd_accuracies = train_model(model_odd, optimizer_odd, scheduler_odd, \"Odd Layer Model\")\n",
    "\n",
    "print(\"\\nTraining Even Layer Model...\")\n",
    "even_losses, even_accuracies = train_model(model_even, optimizer_even, scheduler_even, \"Even Layer Model\")\n",
    "\n",
    "print(\"\\nTraining LoRA Model...\")\n",
    "lora_losses, lora_accuracies = train_model(model_lora, optimizer_lora, scheduler_lora, \"LoRA Model\")"
   ]
  },
  {
   "cell_type": "code",
   "execution_count": 22,
   "metadata": {},
   "outputs": [
    {
     "data": {
      "image/png": "[encoded data removed]",
      "text/plain": [
       "<Figure size 1000x600 with 1 Axes>"
      ]
     },
     "metadata": {},
     "output_type": "display_data"
    },
    {
     "data": {
      "image/png": "[encoded data removed]",
      "text/plain": [
       "<Figure size 1000x600 with 1 Axes>"
      ]
     },
     "metadata": {},
     "output_type": "display_data"
    },
    {
     "name": "stdout",
     "output_type": "stream",
     "text": [
      "\n",
      "Final Results:\n",
      "Odd Layer Model - Loss: 0.1575\n",
      "Even Layer Model - Loss: 0.1582\n",
      "LoRA Model - Loss: 0.2383\n",
      "\n",
      "Odd Layer Model - Final Accuracy: 0.8180\n",
      "Even Layer Model - Final Accuracy: 0.8270\n",
      "LoRA Model - Final Accuracy: 0.6240\n",
      "\n",
      "Parameter Counts:\n",
      "Teacher Model: 109,483,778\n",
      "Odd/Even Layer Models: 66,956,546\n",
      "LoRA Model: 296,450\n"
     ]
    }
   ],
   "source": [
    "# Plotting function to compare results\n",
    "import matplotlib.pyplot as plt\n",
    "\n",
    "def plot_comparison(odd_metrics, even_metrics, lora_metrics, metric_name):\n",
    "    plt.figure(figsize=(10, 6))\n",
    "    epochs = range(1, num_epochs + 1)\n",
    "    \n",
    "    plt.plot(epochs, odd_metrics, 'b-', label='Odd Layers')\n",
    "    plt.plot(epochs, even_metrics, 'r-', label='Even Layers')\n",
    "    plt.plot(epochs, lora_metrics, 'g-', label='LoRA')\n",
    "    \n",
    "    plt.title(f'Comparison of {metric_name}')\n",
    "    plt.xlabel('Epochs')\n",
    "    plt.ylabel(metric_name)\n",
    "    plt.legend()\n",
    "    plt.grid(True)\n",
    "    plt.show()\n",
    "\n",
    "# Plot training losses\n",
    "plot_comparison(odd_losses, even_losses, lora_losses, \"Training Loss\")\n",
    "\n",
    "# Plot evaluation accuracies\n",
    "plot_comparison(odd_accuracies, even_accuracies, lora_accuracies, \"Evaluation Accuracy\")\n",
    "\n",
    "# Print final results\n",
    "print(\"\\nFinal Results:\")\n",
    "\n",
    "print(f\"Odd Layer Model - Loss: {odd_losses[-1]:.4f}\")\n",
    "print(f\"Even Layer Model - Loss: {even_losses[-1]:.4f}\")\n",
    "print(f\"LoRA Model - Loss: {lora_losses[-1]:.4f}\")\n",
    "\n",
    "print(f\"\\nOdd Layer Model - Final Accuracy: {odd_accuracies[-1]:.4f}\")\n",
    "print(f\"Even Layer Model - Final Accuracy: {even_accuracies[-1]:.4f}\")\n",
    "print(f\"LoRA Model - Final Accuracy: {lora_accuracies[-1]:.4f}\")\n",
    "\n",
    "# Calculate and print parameter counts\n",
    "print(\"\\nParameter Counts:\")\n",
    "print(f\"Teacher Model: {count_parameters(teacher_model):,}\")\n",
    "print(f\"Odd/Even Layer Models: {count_parameters(model_odd):,}\")\n",
    "print(f\"LoRA Model: {count_parameters(model_lora):,}\")"
   ]
  },
  {
   "cell_type": "code",
   "execution_count": null,
   "metadata": {},
   "outputs": [],
   "source": [
    "# Save every models for inference\n",
    "teacher_model.save_pretrained(\"teacher_model\")\n",
    "model_odd.save_pretrained(\"model_odd\")\n",
    "model_even.save_pretrained(\"model_even\")\n",
    "model_lora.save_pretrained(\"model_lora\")\n",
    "tokenizer.save_pretrained(\"teacher_model\")\n",
    "tokenizer.save_pretrained(\"model_odd\")\n",
    "tokenizer.save_pretrained(\"model_even\")\n",
    "tokenizer.save_pretrained(\"model_lora\")"
   ]
  }
 ],
 "metadata": {
  "kernelspec": {
   "display_name": ".venv",
   "language": "python",
   "name": "python3"
  },
  "language_info": {
   "codemirror_mode": {
    "name": "ipython",
    "version": 3
   },
   "file_extension": ".py",
   "mimetype": "text/x-python",
   "name": "python",
   "nbconvert_exporter": "python",
   "pygments_lexer": "ipython3",
   "version": "3.10.11"
  }
 },
 "nbformat": 4,
 "nbformat_minor": 2
}
